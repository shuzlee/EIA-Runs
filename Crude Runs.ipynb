{
 "cells": [
  {
   "cell_type": "code",
   "execution_count": null,
   "metadata": {},
   "outputs": [],
   "source": [
    "#Import libraries\n",
    "import pandas as pd\n",
    "import requests\n",
    "import matplotlib.pyplot as plt\n",
    "import numpy as np\n",
    "from datetime import date\n",
    "\n",
    "# Adjust style\n",
    "plt.style.use('seaborn-whitegrid')"
   ]
  },
  {
   "cell_type": "code",
   "execution_count": null,
   "metadata": {},
   "outputs": [],
   "source": [
    "# Set up model variables\n",
    "# API Key from EIA\n",
    "api_key = 'dc1de54d5800a76b0e84950e9eef64e7'\n",
    "\n",
    "# PADD Names to Label Columns\n",
    "PADD_NAMES = ['PADD 1','PADD 2','PADD 3','PADD 4','PADD 5']\n",
    "PADD_KEY = ['PET.MCRRIP12.M','PET.MCRRIP22.M','PET.MCRRIP32.M','PET.MCRRIP42.M','PET.MCRRIP52.M']"
   ]
  },
  {
   "cell_type": "code",
   "execution_count": null,
   "metadata": {},
   "outputs": [],
   "source": [
    "# Initialize list\n",
    "final_data = []\n",
    "\n",
    "# Choose start and end dates\n",
    "startDate = '2009-01-01'\n",
    "endDate = '2021-01-01'"
   ]
  },
  {
   "cell_type": "code",
   "execution_count": null,
   "metadata": {},
   "outputs": [],
   "source": [
    "# Pull in data via EIA API\n",
    "for i in range(len(PADD_KEY)):\n",
    "          #http://api.eia.gov/series/?api_key=YOUR_API_KEY_HERE&series_id=PET.MCRRIP32.M\n",
    "    url = 'http://api.eia.gov/series/?api_key=' + api_key + '&series_id=' + PADD_KEY[i]\n",
    "    \n",
    "    r = requests.get(url)\n",
    "    json_data = r.json()\n",
    "    \n",
    "    if r.status_code == 200:\n",
    "        print('Success!')\n",
    "    else:\n",
    "        print('Error')\n",
    "    \n",
    "    df = pd.DataFrame(json_data.get('series')[0].get('data'), columns = ['Date', PADD_NAMES[i]])\n",
    "    df.set_index('Date', drop=True, inplace=True)\n",
    "    final_data.append(df)"
   ]
  },
  {
   "cell_type": "code",
   "execution_count": null,
   "metadata": {},
   "outputs": [],
   "source": [
    "# Create final dataframeby concatenating all the df in final_data together\n",
    "crude_input_monthly = pd.concat(final_data, axis=1)"
   ]
  },
  {
   "cell_type": "code",
   "execution_count": null,
   "metadata": {},
   "outputs": [],
   "source": [
    "# Create date as datetype datatype\n",
    "crude_input_monthly['Year'] = crude_input_monthly.index.astype(str).str[:4]\n",
    "crude_input_monthly['Month'] = crude_input_monthly.index.astype(str).str[4:]\n",
    "crude_input_monthly['Day'] = 1\n",
    "crude_input_monthly['Date'] = pd.to_datetime(crude_input_monthly[['Year','Month','Day']])\n",
    "crude_input_monthly.set_index('Date',drop=True,inplace=True)\n",
    "crude_input_monthly.sort_index(inplace=True)\n",
    "crude = crude_input_monthly[startDate:endDate]"
   ]
  },
  {
   "cell_type": "code",
   "execution_count": null,
   "metadata": {},
   "outputs": [],
   "source": [
    "# Read in IIR Weekly Data\n",
    "df = pd.read_csv('L:\\FFX\\intl\\Trading\\Balances\\Turnarounds\\TAoutputM.csv')"
   ]
  },
  {
   "cell_type": "code",
   "execution_count": null,
   "metadata": {},
   "outputs": [],
   "source": [
    "# Only take USA\n",
    "df = df[df['COUNTRY'] == 'U.S.A.']\n",
    "\n",
    "# Remove cancelled data\n",
    "df = df[df['OUTAGE_STA'] != 'Cancelled']\n",
    "\n",
    "# Select only crude units\n",
    "df = df[df['UTYPE_DESC'] == 'Atmospheric Distillation']\n",
    "\n",
    "# Make day column = 1 so we can groupby month of each year\n",
    "df['Day'] = 1\n",
    "\n",
    "# Create MonthYear column\n",
    "df['MonthYear'] = pd.to_datetime(df[['Year','Month','Day']])\n",
    "\n",
    "df_view = df[df['Category'] != 'IIR Overridden']\n",
    "\n",
    "# Filter by dates\n",
    "mask = (df_view['MonthYear'] >= startDate) & (df_view['MonthYear'] <= endDate)\n",
    "df_view = df_view.loc[mask]\n",
    "df_view.set_index('MonthYear', inplace=True)\n",
    "\n",
    "df_pivot = pd.pivot_table(df_view,\n",
    "                          values=['CrudeLoss'],\n",
    "                          index=['MonthYear'],\n",
    "                          columns=['PAD_DIST'],\n",
    "                          aggfunc=np.sum)/1000\n",
    "\n",
    "df_pivot = df_pivot.fillna(0)\n",
    "df_pivot = df_pivot.round(decimals=0)\n",
    "df_pivot.columns = df_pivot.columns.droplevel(0)\n",
    "df_pivot.columns = ['P1 Crude Loss','P2 Crude Loss','P3 Crude Loss','P4 Crude Loss','P5 Crude Loss']"
   ]
  },
  {
   "cell_type": "code",
   "execution_count": null,
   "metadata": {},
   "outputs": [],
   "source": [
    "# Set columns to create 5 or 10 year average by month\n",
    "final = crude.join(df_pivot, how='outer')\n",
    "final['Year'] - final.index.year\n",
    "final['Month'] - final.index.month\n",
    "final['Day'] - final.index.day\n",
    "final['P1 Avg'] = np.nan\n",
    "final['P2 Avg'] = np.nan\n",
    "final['P3 Avg'] = np.nan\n",
    "final['P4 Avg'] = np.nan\n",
    "final['P5 Avg'] = np.nan"
   ]
  },
  {
   "cell_type": "code",
   "execution_count": null,
   "metadata": {},
   "outputs": [],
   "source": [
    "# Choose 5 or 10 year average\n",
    "\n",
    "choice = '5 Year Average' # '10 Year Average'\n",
    "current_year = date.today().year\n",
    "\n",
    "if choice == '5 Year Average':\n",
    "    year_list = [current_year-6, current_year-5, current_year-4, current_year-3, current_year-2, current_year-1, \n",
    "                 current_year, current_year+1]\n",
    "elif choice == \"10 Year Average\":\n",
    "    year_list = [current_year-11, current_year-10, current_year-9, current_year-8, \n",
    "                 current_year-7, current_year-6, current_year-5, current_year-4, \n",
    "                 current_year-3, current_year-2, current_year-1, current_year, current_year+1]\n",
    "else:\n",
    "    print(\"Error: Choose 5 or 10 year range\")\n",
    "    \n",
    "for i in range(len(yearlist)):\n",
    "    a = final[(final['Year'] >= yearlist[i]-5) & (final['Year'] < yearlist[i])].groupby('Month').mean()\n",
    "    a = a.iloc[:,0:5]\n",
    "    a.columns = ['P1 Avg', 'P2 Avg', 'P3 Avg', 'P4 Avg', 'P5 Avg']\n",
    "    a.set_index(final[str(yearlist[i])].index, drop=True)\n",
    "    \n",
    "    final.update(a, overwrite=True)"
   ]
  },
  {
   "cell_type": "code",
   "execution_count": null,
   "metadata": {},
   "outputs": [],
   "source": [
    "# Create Pct Change\n",
    "final['P1 PctChg'] = final['P1 Avg'].pct_change()\n",
    "final['P2 PctChg'] = final['P2 Avg'].pct_change()\n",
    "final['P3 PctChg'] = final['P3 Avg'].pct_change()\n",
    "final['P4 PctChg'] = final['P4 Avg'].pct_change()\n",
    "final['P5 PctChg'] = final['P5 Avg'].pct_change()"
   ]
  },
  {
   "cell_type": "code",
   "execution_count": null,
   "metadata": {},
   "outputs": [],
   "source": [
    "# Begin Regression\n",
    "# Create variable models for each PADD\n",
    "P1_Var = # Proprietary variables here\n",
    "P2_Var = # Proprietary variables here\n",
    "P3_Var = # Proprietary variables here\n",
    "P4_Var = # Proprietary variables here\n",
    "P5_Var = # Proprietary variables here\n",
    "\n",
    "padd_var = [P1_Var, P2_Var, P3_Var, P4_Var, P5_Var]\n",
    "padd_pred = ['P1 Prediction', 'P2 Prediction', 'P3 Prediction', 'P4 Prediction', 'P5 Prediction']\n",
    "\n",
    "# Create data to make the model\n",
    "test_data = final.dropna()\n",
    "\n",
    "# Create model and predictions\n",
    "for j in range(len(padd_var)):\n",
    "    X = test_data[padd_var[j]]\n",
    "    y = test_data[PADD_NAMES[j]]\n",
    "    X = sm.add_constant(X)\n",
    "    \n",
    "    # Note the differences in argument order\n",
    "    model = sm.OLS(y, X).fit()\n",
    "    final[padd_pred[j]] = model.predict(X)\n",
    "    \n",
    "    z = final[final[PADD_NAMES[j]].isnull() == True]\n",
    "    \n",
    "    z[padd_predd[j]] = # Proprietary formula\n",
    "    \n",
    "    final.update(z, overwrite = True)"
   ]
  },
  {
   "cell_type": "code",
   "execution_count": null,
   "metadata": {},
   "outputs": [],
   "source": [
    "# Plot the predictions\n",
    "plotdata = final[str(current_year-5):str(current_year+2)]\n",
    "\n",
    "for k in range(len(PADD_NAMES)):\n",
    "    ax1 = plotdata[PADD_NAMES[k]].plot()\n",
    "    ax2 = plotdata[padd_pred[k]].plot()\n",
    "    plt.title(PADD_NAMES[k] + 'Crude Runs')\n",
    "    plt.legend()\n",
    "    plt.savefig(PADD_NAMES[k]+ ' Crude Runs.jpg')\n",
    "    plt.show()"
   ]
  }
 ],
 "metadata": {
  "kernelspec": {
   "display_name": "Python 3",
   "language": "python",
   "name": "python3"
  },
  "language_info": {
   "codemirror_mode": {
    "name": "ipython",
    "version": 3
   },
   "file_extension": ".py",
   "mimetype": "text/x-python",
   "name": "python",
   "nbconvert_exporter": "python",
   "pygments_lexer": "ipython3",
   "version": "3.7.1"
  }
 },
 "nbformat": 4,
 "nbformat_minor": 2
}
